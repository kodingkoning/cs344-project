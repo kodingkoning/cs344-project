{
 "cells": [
  {
   "cell_type": "markdown",
   "metadata": {},
   "source": [
    "# Evaluation of AI in Resistance Surface Optimization\n",
    "\n",
    "## Background\n",
    "\n",
    "### Optimizing Resistance Surfaces\n",
    "\n",
    "- deer populations\n",
    "- effective distances\n",
    "- resistance surfaces\n",
    "- goal of finding which landscape features have the largest effect\n",
    "\n",
    "### Genetic Algorithms\n",
    "\n",
    "- popular with biologists\n",
    "- based on natural selection\n",
    "    - population of solutions\n",
    "    - selection of fit solutions\n",
    "    - genetic operations\n",
    "        - crossover\n",
    "        ![crossover](https://cdn.kastatic.org/ka-perseus-images/fce77f0f26e017b5e1b94e3082d40b84e94dd72b.png)\n",
    "        - mutation\n",
    "        ![mutation](https://genetics.thetech.org/sites/default/files/DNAmutation.gif)\n",
    "    - termination\n",
    "        - maximum number of generations\n",
    "        - plateau based on fitness function\n",
    "- slow\n",
    "    - for Miller's data, takes 3-5 days\n",
    "\n",
    "\n",
    "## My Work\n",
    "\n",
    "- see GA Jupyter Notebook\n",
    "- running ResistanceGA\n",
    "\n",
    "### Potential for Alternatives\n",
    "\n",
    "- CNNs\n",
    "    - fundamental difference in treatment of images\n",
    "- Simulated Annealing\n",
    "    - similarities with GA\n",
    "    - potential increase in effectiency\n",
    "\n",
    "## Conclusions and Next Steps\n",
    "\n",
    "- recommend to further explore potential of using SA\n",
    "- likely would be effective to adapt the ResistanceGA package to be ResistanceSA\n",
    "- need to rebrand SA to communicate effectively with biologists"
   ]
  },
  {
   "cell_type": "markdown",
   "metadata": {},
   "source": [
    "Image sources:\n",
    "\n",
    "Khan Academy: https://cdn.kastatic.org/ka-perseus-images/fce77f0f26e017b5e1b94e3082d40b84e94dd72b.png\n",
    "\n",
    "The Tech Museum of Innovation: https://genetics.thetech.org/sites/default/files/DNAmutation.gif\n"
   ]
  }
 ],
 "metadata": {
  "anaconda-cloud": {},
  "kernelspec": {
   "display_name": "R",
   "language": "R",
   "name": "ir"
  },
  "language_info": {
   "codemirror_mode": "r",
   "file_extension": ".r",
   "mimetype": "text/x-r-source",
   "name": "R",
   "pygments_lexer": "r",
   "version": "3.5.1"
  }
 },
 "nbformat": 4,
 "nbformat_minor": 2
}
