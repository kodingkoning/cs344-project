{
 "cells": [
  {
   "cell_type": "markdown",
   "metadata": {},
   "source": [
    "# Evaluation of AI in Resistance Surface Optimization\n",
    "\n",
    "## Background\n",
    "\n",
    "### Genetic Algorithms\n",
    "\n",
    "- popular with biologists\n",
    "- based on natural selection\n",
    "- slow\n",
    "\n",
    "### Optimizing Resistance Surfaces\n",
    "\n",
    "- deer populations\n",
    "- effective distances\n",
    "- resistance surfaces\n",
    "- finding which landscape features have the largest effect\n",
    "\n",
    "## My Work\n",
    "\n",
    "- see GA Jupyter Notebook\n",
    "- running ResistanceGA\n",
    "\n",
    "### Potential for Alternatives\n",
    "\n",
    "- CNNs\n",
    "- SA and HC\n",
    "\n",
    "## Conclusions and Next Steps\n",
    "\n",
    "- recommend to further explore potential of using SA\n",
    "- likely would be effective to adapt the ResistanceGA package to be ResistanceSA\n",
    "- need to rebrand SA to communicate with biologists"
   ]
  }
 ],
 "metadata": {
  "anaconda-cloud": {},
  "kernelspec": {
   "display_name": "R",
   "language": "R",
   "name": "ir"
  },
  "language_info": {
   "codemirror_mode": "r",
   "file_extension": ".r",
   "mimetype": "text/x-r-source",
   "name": "R",
   "pygments_lexer": "r",
   "version": "3.5.1"
  }
 },
 "nbformat": 4,
 "nbformat_minor": 2
}
